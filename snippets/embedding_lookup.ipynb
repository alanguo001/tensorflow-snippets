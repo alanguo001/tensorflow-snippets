{
 "cells": [
  {
   "cell_type": "code",
   "execution_count": null,
   "metadata": {
    "collapsed": true
   },
   "outputs": [],
   "source": [
    "# Created 2016-04-03\n",
    "# Tensorflow version: 0.7"
   ]
  },
  {
   "cell_type": "code",
   "execution_count": 1,
   "metadata": {
    "collapsed": true
   },
   "outputs": [],
   "source": [
    "import numpy as np\n",
    "import tensorflow as tf"
   ]
  },
  {
   "cell_type": "code",
   "execution_count": 2,
   "metadata": {
    "collapsed": false
   },
   "outputs": [
    {
     "name": "stdout",
     "output_type": "stream",
     "text": [
      "[[ 1.  0.  0.  0.  0.]\n",
      " [ 0.  0.  0.  1.  0.]\n",
      " [ 1.  0.  0.  0.  0.]\n",
      " [ 0.  0.  1.  0.  0.]\n",
      " [ 0.  0.  0.  0.  1.]\n",
      " [ 0.  1.  0.  0.  0.]\n",
      " [ 0.  1.  0.  0.  0.]\n",
      " [ 0.  0.  0.  1.  0.]]\n"
     ]
    }
   ],
   "source": [
    "# ---- Snippet 1 ----\n",
    "# Convert a vector of IDs into a matrix of sparse binary vectors.\n",
    "#\n",
    "# The IDs ranges from [0 .. (num_ids - 1)], and the resulting binary vectors are of size num_ids.\n",
    "\n",
    "# ID ranges from [0 .. 4]\n",
    "num_ids = 5\n",
    "\n",
    "# The constant dictionary defines the vectors that each ID will map to.\n",
    "# In this example, it is defined as an identity matrix since we are \n",
    "# converting the input IDs to binary vectors.\n",
    "#\n",
    "# [[ 1.  0.  0.  0.  0.]\n",
    "#  [ 0.  1.  0.  0.  0.]\n",
    "#  [ 0.  0.  1.  0.  0.]\n",
    "#  [ 0.  0.  0.  1.  0.]\n",
    "#  [ 0.  0.  0.  0.  1.]]\n",
    "#\n",
    "# In real world use case, it can be an arbitrary matrix and a variable instead of constant.\n",
    "dictionary = tf.constant(np.identity(num_ids))\n",
    "\n",
    "# The input IDs. In the real world this is usually a variable or a placeholder of int32.\n",
    "input_ids = tf.constant([0, 3, 0, 2, 4, 1, 1, 3])\n",
    "\n",
    "# Applying embedding_lookup.\n",
    "converted_vectors = tf.nn.embedding_lookup(dictionary, input_ids)\n",
    "\n",
    "with tf.Session() as sess:\n",
    "    print(sess.run(converted_vectors))\n",
    "    \n",
    "# Expected Output:\n",
    "# [[ 1.  0.  0.  0.  0.]\n",
    "#  [ 0.  0.  0.  1.  0.]\n",
    "#  [ 1.  0.  0.  0.  0.]\n",
    "#  [ 0.  0.  1.  0.  0.]\n",
    "#  [ 0.  0.  0.  0.  1.]\n",
    "#  [ 0.  1.  0.  0.  0.]\n",
    "#  [ 0.  1.  0.  0.  0.]\n",
    "#  [ 0.  0.  0.  1.  0.]]\n",
    "\n"
   ]
  },
  {
   "cell_type": "code",
   "execution_count": 11,
   "metadata": {
    "collapsed": false
   },
   "outputs": [
    {
     "name": "stdout",
     "output_type": "stream",
     "text": [
      "[[[ 0.1         0.1         0.1       ]\n",
      "  [ 0.2         0.2         0.2       ]\n",
      "  [ 0.30000001  0.30000001  0.30000001]\n",
      "  [ 0.1         0.1         0.1       ]]\n",
      "\n",
      " [[ 0.2         0.2         0.2       ]\n",
      "  [ 0.2         0.2         0.2       ]\n",
      "  [ 0.30000001  0.30000001  0.30000001]\n",
      "  [ 0.30000001  0.30000001  0.30000001]]]\n"
     ]
    }
   ],
   "source": [
    "# ---- Snippet 2 ----\n",
    "# When input is a tensor (instead of a vector)\n",
    "#\n",
    "\n",
    "# Now the dictionary is 6 vectors.\n",
    "dictionary = tf.constant([[0.1, 0.1, 0.1], \n",
    "                          [0.2, 0.2, 0.2],\n",
    "                          [0.3, 0.3, 0.3], \n",
    "                          [0.4, 0.4, 0.4],\n",
    "                          [0.5, 0.5, 0.5],\n",
    "                          [0.6, 0.6, 0.6]])\n",
    "\n",
    "# The input IDs are now a matrix (tensor) of shape 2 * 4\n",
    "input_ids = tf.constant([[0, 1, 2, 0],\n",
    "                         [1, 1, 2, 2]])\n",
    " \n",
    "# Converted is then 2 * 4 * 3 \n",
    "converted = tf.nn.embedding_lookup(dictionary, input_ids)\n",
    "             \n",
    "with tf.Session() as sess:\n",
    "    print(sess.run(converted))"
   ]
  }
 ],
 "metadata": {
  "kernelspec": {
   "display_name": "Python 3",
   "language": "python",
   "name": "python3"
  },
  "language_info": {
   "codemirror_mode": {
    "name": "ipython",
    "version": 3
   },
   "file_extension": ".py",
   "mimetype": "text/x-python",
   "name": "python",
   "nbconvert_exporter": "python",
   "pygments_lexer": "ipython3",
   "version": "3.5.1+"
  }
 },
 "nbformat": 4,
 "nbformat_minor": 0
}
