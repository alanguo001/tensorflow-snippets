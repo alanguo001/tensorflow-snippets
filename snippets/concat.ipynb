{
 "cells": [
  {
   "cell_type": "code",
   "execution_count": null,
   "metadata": {
    "collapsed": true
   },
   "outputs": [],
   "source": [
    "# Created 2016-04-03\n",
    "# Tensorflow version: 0.7"
   ]
  },
  {
   "cell_type": "code",
   "execution_count": null,
   "metadata": {
    "collapsed": true
   },
   "outputs": [],
   "source": [
    "import numpy as np\n",
    "import tensorflow as tf"
   ]
  },
  {
   "cell_type": "code",
   "execution_count": null,
   "metadata": {
    "collapsed": false
   },
   "outputs": [],
   "source": [
    "a = tf.constant([[1, 2, 3], \n",
    "                 [4, 5, 6]])\n",
    "b = tf.constant([[7, 8, 9], \n",
    "                 [0, 1, 2]])\n",
    "\n",
    "# Concat on first dimension gives\n",
    "# [[1 2 3]\n",
    "#  [4 5 6]\n",
    "#  [7 8 9]\n",
    "#  [0 1 2]]\n",
    "c = tf.concat(0, [a, b])\n",
    "\n",
    "# Concat on first dimension gives\n",
    "# [[1 2 3 7 8 9]\n",
    "#  [4 5 6 0 1 2]]\n",
    "d = tf.concat(1, [a, b])\n",
    "\n",
    "with tf.Session() as sess:\n",
    "    eval_c, eval_d = sess.run([c, d])\n",
    "    print(eval_c)\n",
    "    print(eval_d)"
   ]
  }
 ],
 "metadata": {
  "kernelspec": {
   "display_name": "Python 3",
   "language": "python",
   "name": "python3"
  },
  "language_info": {
   "codemirror_mode": {
    "name": "ipython",
    "version": 3
   },
   "file_extension": ".py",
   "mimetype": "text/x-python",
   "name": "python",
   "nbconvert_exporter": "python",
   "pygments_lexer": "ipython3",
   "version": "3.5.1+"
  }
 },
 "nbformat": 4,
 "nbformat_minor": 0
}
