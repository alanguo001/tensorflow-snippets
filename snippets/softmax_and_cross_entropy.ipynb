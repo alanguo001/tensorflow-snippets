{
 "cells": [
  {
   "cell_type": "code",
   "execution_count": null,
   "metadata": {
    "collapsed": true
   },
   "outputs": [],
   "source": [
    "# Created 2016-04-05\n",
    "# Tensorflow version: 0.7"
   ]
  },
  {
   "cell_type": "code",
   "execution_count": 2,
   "metadata": {
    "collapsed": true
   },
   "outputs": [],
   "source": [
    "import numpy as np\n",
    "import tensorflow as tf"
   ]
  },
  {
   "cell_type": "code",
   "execution_count": 13,
   "metadata": {
    "collapsed": false
   },
   "outputs": [
    {
     "name": "stdout",
     "output_type": "stream",
     "text": [
      "[[ 0.57444252  0.42555748]]\n",
      "[[ 0.57444252  0.42555748]]\n"
     ]
    }
   ],
   "source": [
    "# Snippet 1\n",
    "# Simple softmax of a size-2 vector.\n",
    "\n",
    "# Note that tf.nn.softmax REQUIRES the input to be of rank 2, which means\n",
    "# that np.array([0.5, 0.2]) won't work here.\n",
    "#\n",
    "# In reality logits is expected to be a matrix of batch_size * logit_size.\n",
    "logits_a = np.array([[0.5, 0.2]])\n",
    "\n",
    "# Calculate the softmax based on logits_a. According to the softmax definition,\n",
    "# the expected result is [exp(0.5), exp(0.2)] / (exp(0.5) + exp(0.2))\n",
    "result_a = tf.nn.softmax(logits_a)\n",
    "expected_result_a = np.array([[np.exp(0.5), np.exp(0.2)]]) / (np.exp(0.5) + np.exp(0.2))\n",
    "\n",
    "with tf.Session() as sess:\n",
    "    # They should evaluate to the same vector (tensor).\n",
    "    print(expected_result_a)\n",
    "    print(sess.run(result_a))\n",
    "\n",
    "\n"
   ]
  },
  {
   "cell_type": "code",
   "execution_count": 15,
   "metadata": {
    "collapsed": false
   },
   "outputs": [
    {
     "name": "stdout",
     "output_type": "stream",
     "text": [
      "[[ 0.2  0.2  0.2  0.2  0.2]]\n",
      "[[ 0.2  0.2  0.2  0.2  0.2]]\n"
     ]
    }
   ],
   "source": [
    "# Snippet 2\n",
    "# Simple softmax of a bigger vector.\n",
    "\n",
    "# Note that tf.nn.softmax REQUIRES the input to be of rank 2, and the logits\n",
    "# below has a batch_size of 1 for illustration purpose.\n",
    "logits_b = np.array([[0.77, 0.77, 0.77, 0.77, 0.77]])\n",
    "\n",
    "# Based on the softmax definition, the above logits should have a uniform softmax.\n",
    "# Softmax result are usually interpreted as probaility and sum to 1.\n",
    "# This means that the expected result will be [0.2, 0.2, 0.2, 0.2, 0.2]\n",
    "result_b = tf.nn.softmax(logits_b)\n",
    "expected_result_b = np.array([[0.2, 0.2, 0.2, 0.2, 0.2]])\n",
    "\n",
    "with tf.Session() as sess:\n",
    "    # They should evaluate to the same vector (tensor).\n",
    "    print(expected_result_b)\n",
    "    print(sess.run(result_b))"
   ]
  },
  {
   "cell_type": "code",
   "execution_count": 36,
   "metadata": {
    "collapsed": false
   },
   "outputs": [
    {
     "name": "stdout",
     "output_type": "stream",
     "text": [
      "[ 0.69314718]\n",
      "[ 0.69314718]\n",
      "[ 0.69314718]\n"
     ]
    }
   ],
   "source": [
    "# Snippet 3\n",
    "# Softmax and cross entropy.\n",
    "\n",
    "# Note that tf.nn.softmax REQUIRES the input to be of rank 2, and the logits\n",
    "# below has a batch_size of 1 for illustration purpose.\n",
    "logits = np.array([[0.95, 0.95]])\n",
    "# The probability representation of the labels has the same shape as logits.\n",
    "# Unlike logits, it is usually a batch of sparse vectors, where each vector\n",
    "# has 1 on the correct position and 0 on the others.\n",
    "labels = np.array([[1.0, 0.0]])\n",
    "# Sometimes we chose to represent each label as its label index (an integer)\n",
    "# instead of a probability. In our case the first (and the only) label has \n",
    "# 1.0 on index 0, so the sparse label representation will be \"0\".\n",
    "sparse_labels = np.array([0], dtype=np.int32)\n",
    "\n",
    "# Calculate the expected softmax and cross entropy.\n",
    "#\n",
    "# According to the definition of softmax, applying the softmax on it will \n",
    "# yield [[0.5, 0.5]]\n",
    "expected_softmax = np.array([[0.5, 0.5]])\n",
    "# Calcuate the cross entropy based on its definition. For details, see\n",
    "# https://en.wikipedia.org/wiki/Cross_entropy\n",
    "expected_cross_entropy = np.array([- 1.0 * np.log(0.5) - 0.0 * np.log(0.5)])\n",
    "\n",
    "# Operation that produces the cross entropy from logits and labels.\n",
    "cross_entropy_a = tf.nn.softmax_cross_entropy_with_logits(logits, labels)\n",
    "# Operation that produces the cross entropy from logits and labels.\n",
    "cross_entropy_b = tf.nn.sparse_softmax_cross_entropy_with_logits(logits, sparse_labels)\n",
    "\n",
    "with tf.Session() as sess:\n",
    "    # They should evaluate to the same vector (tensor).\n",
    "    print(expected_cross_entropy)\n",
    "    print(sess.run(cross_entropy_a))\n",
    "    print(sess.run(cross_entropy_b))\n",
    "\n",
    "\n"
   ]
  }
 ],
 "metadata": {
  "kernelspec": {
   "display_name": "Python 3",
   "language": "python",
   "name": "python3"
  },
  "language_info": {
   "codemirror_mode": {
    "name": "ipython",
    "version": 3
   },
   "file_extension": ".py",
   "mimetype": "text/x-python",
   "name": "python",
   "nbconvert_exporter": "python",
   "pygments_lexer": "ipython3",
   "version": "3.5.1+"
  }
 },
 "nbformat": 4,
 "nbformat_minor": 0
}
