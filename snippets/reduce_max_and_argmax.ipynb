{
 "cells": [
  {
   "cell_type": "code",
   "execution_count": null,
   "metadata": {
    "collapsed": true
   },
   "outputs": [],
   "source": [
    "# Created 2016-04-10\n",
    "# Tensorflow version: 0.7"
   ]
  },
  {
   "cell_type": "code",
   "execution_count": 2,
   "metadata": {
    "collapsed": true
   },
   "outputs": [],
   "source": [
    "import numpy as np\n",
    "import tensorflow as tf"
   ]
  },
  {
   "cell_type": "code",
   "execution_count": 3,
   "metadata": {
    "collapsed": false
   },
   "outputs": [
    {
     "name": "stdout",
     "output_type": "stream",
     "text": [
      "--------- dimension 0 ----------\n",
      "[1 8 6]\n",
      "[0 1 0]\n",
      "--------- dimension 1 ----------\n",
      "[6 8]\n",
      "[2 1]\n"
     ]
    }
   ],
   "source": [
    "# Although this is for reduce_max and argmax, the same goes \n",
    "# for reduce_min and argmin.\n",
    "#\n",
    "# There is a trick to correctly find the dimension to be specified\n",
    "# in all of those \"reduce\" like functions:\n",
    "# It is the dimension that will disappear.\n",
    "\n",
    "a = tf.constant([[1, 2, 6], [0, 8, 5]])\n",
    "\n",
    "# The max along the 0th dimension is [1, 8, 6].\n",
    "# The corresponding indices in the 1st dimension can be obtained by\n",
    "# argmax, which results to [0 1 0]\n",
    "max_along_0 = tf.reduce_max(a, 0)\n",
    "argmax_along_0 = tf.argmax(a, 0)\n",
    "\n",
    "# The max along the 1st dimension is [6, 8].\n",
    "# The corresponding indices in the 0th dimension can be obtained by\n",
    "# argmax, which results to [2 1]\n",
    "max_along_1 = tf.reduce_max(a, 1)\n",
    "argmax_along_1 = tf.argmax(a, 1)\n",
    "\n",
    "\n",
    "with tf.Session() as sess:\n",
    "    print('--------- dimension 0 ----------')\n",
    "    print(sess.run(max_along_0))\n",
    "    print(sess.run(argmax_along_0))\n",
    "    \n",
    "    print('--------- dimension 1 ----------')\n",
    "    print(sess.run(max_along_1))\n",
    "    print(sess.run(argmax_along_1))"
   ]
  }
 ],
 "metadata": {
  "kernelspec": {
   "display_name": "Python 3",
   "language": "python",
   "name": "python3"
  },
  "language_info": {
   "codemirror_mode": {
    "name": "ipython",
    "version": 3
   },
   "file_extension": ".py",
   "mimetype": "text/x-python",
   "name": "python",
   "nbconvert_exporter": "python",
   "pygments_lexer": "ipython3",
   "version": "3.5.1+"
  }
 },
 "nbformat": 4,
 "nbformat_minor": 0
}
