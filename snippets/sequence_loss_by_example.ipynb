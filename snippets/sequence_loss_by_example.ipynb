{
 "cells": [
  {
   "cell_type": "code",
   "execution_count": null,
   "metadata": {
    "collapsed": true
   },
   "outputs": [],
   "source": [
    "# Created 2016-04-06\n",
    "# Tensorflow version: 0.7\n",
    "\n",
    "# Like sparse_softmax_cross_entropy_with_logits, \n",
    "# tf.seq2seq.sequence_loss_by_example calculates the softmax cross entropy.\n",
    "# (I am not sure why softmax/cross entropy is not mentioned in its name)\n",
    "#\n",
    "# The difference is that the calculation is done on a sequence of logits,\n",
    "# where the sequence is a Python list. \n",
    "#\n",
    "# In fact, one thing to help understand it is that in the simplest form, \n",
    "# it is just calling sparse_softmax_cross_entropy_with_logits on every \n",
    "# element of the sequence respectively.\n",
    "# \n",
    "# It is mainly used for Recurrent Nueral Networks."
   ]
  },
  {
   "cell_type": "code",
   "execution_count": 2,
   "metadata": {
    "collapsed": true
   },
   "outputs": [],
   "source": [
    "import numpy as np\n",
    "import tensorflow as tf"
   ]
  },
  {
   "cell_type": "code",
   "execution_count": 9,
   "metadata": {
    "collapsed": false
   },
   "outputs": [
    {
     "name": "stdout",
     "output_type": "stream",
     "text": [
      "[array([ 1.09861229,  0.8395462 ]), array([ 0.42155128,  1.70401887]), array([ 1.19967598,  0.67058521]), array([ 1.23983106,  1.0082565 ])]\n",
      "[ 0.98991765  1.05560169]\n",
      "[ 0.98991765  1.05560169]\n"
     ]
    }
   ],
   "source": [
    "# Snippet 1\n",
    "\n",
    "# logits is a list of length 4, where 4 is called the sequence_length.\n",
    "# Each element in the list is a matrix of shape: batch_size * classes.\n",
    "# In this example batch_size = 2, classes = 3.\n",
    "# This means we will have 3 different integers labels: 0, 1, and 2.\n",
    "logits = [np.array([[1.5, 1.5, 1.5], \n",
    "                    [0.7, 0.9, 0.2]]), \n",
    "          np.array([[0.5, 0.2, 1.7],\n",
    "                    [0.1, 1.2, 0.5]]),\n",
    "          np.array([[0.7, 0.3, 1.2],\n",
    "                    [1.1, 0.2, 0.5]]),\n",
    "          np.array([[0.2, 0.4, 0.1],\n",
    "                    [0.8, 0.8, 0.5]])]\n",
    "          \n",
    "# labels is a list of length 4 (sequence_length), similar to logits.\n",
    "# Each element in labels is an integer vector of batch_size.\n",
    "# Usually it represents the groud truth class label for each batch in\n",
    "# each element of the sequence. Integer labels ranges from 0 to 2.\n",
    "#\n",
    "# This is similar to sparse_softmax_cross_entropy_with_logits.\n",
    "labels = [np.array([0, 1], dtype=np.int32), \n",
    "          np.array([2, 0], dtype=np.int32),\n",
    "          np.array([0, 0], dtype=np.int32),\n",
    "          np.array([2, 1], dtype=np.int32)]\n",
    "\n",
    "# weights is a list of length 4 (sequence_length).\n",
    "# Each element in weights is an 1-D vector of batch_size.\n",
    "#\n",
    "# It is used to weight the cross entropy, and when set to all 1s,\n",
    "# the cross entropy is not weighted.\n",
    "weights = [np.array([1.0, 1.0]), np.array([1.0, 1.0]), \n",
    "           np.array([1.0, 1.0]), np.array([1.0, 1.0])]\n",
    "\n",
    "# Finally call sequence_loss_by_example. Note that average_across_time_steps \n",
    "# is by default set to True (the name is self-explaining).\n",
    "loss = tf.nn.seq2seq.sequence_loss_by_example(logits, labels, weights)\n",
    "                                              \n",
    "# ---------- Expected Value ----------\n",
    "#\n",
    "# Now let's do what sequence_loss_by_example, step by step.\n",
    "\n",
    "# First, we calculate the cross entropies for each time step and each batch.\n",
    "# The result is going to be a list of 4 (sequence_length), where each element\n",
    "# is a vector of size 2 (batch_size)\n",
    "expected_cross_entropies = [tf.nn.sparse_softmax_cross_entropy_with_logits(\n",
    "    single_logits, single_labels) for single_logits, single_labels in zip(logits, labels)]\n",
    "\n",
    "# We then sum the cross entropies across time steps, and divide the result by 4 (sequence_length).\n",
    "expected_cross_entropies_average_over_time_steps = tf.accumulate_n(expected_cross_entropies) / 4\n",
    "\n",
    "with tf.Session() as sess:\n",
    "    print(sess.run(expected_cross_entropies))\n",
    "    # We can see that they are the same\n",
    "    print(sess.run(expected_cross_entropies_average_over_time_steps))\n",
    "    print(sess.run(loss))"
   ]
  }
 ],
 "metadata": {
  "kernelspec": {
   "display_name": "Python 3",
   "language": "python",
   "name": "python3"
  },
  "language_info": {
   "codemirror_mode": {
    "name": "ipython",
    "version": 3
   },
   "file_extension": ".py",
   "mimetype": "text/x-python",
   "name": "python",
   "nbconvert_exporter": "python",
   "pygments_lexer": "ipython3",
   "version": "3.5.1+"
  }
 },
 "nbformat": 4,
 "nbformat_minor": 0
}
